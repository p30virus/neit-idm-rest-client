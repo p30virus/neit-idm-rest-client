{
 "cells": [
  {
   "cell_type": "code",
   "execution_count": null,
   "metadata": {},
   "outputs": [
    {
     "name": "stdout",
     "output_type": "stream",
     "text": [
      "{\"id\": \"role-id\", \"name\": \"role-name\", \"description\": \"role-desc\", \"localizedNames\": [{\"locale\": \"en\", \"name\": \"role-name\"}, {\"locale\": \"es\", \"name\": \"role-name\"}], \"localizedDescriptions\": [{\"locale\": \"en\", \"desc\": \"role-desc\"}, {\"locale\": \"es\", \"desc\": \"role-desc\"}]}\n"
     ]
    }
   ],
   "source": [
    "import json\n",
    "RoleID = 'role-id'\n",
    "RoleName = 'role-name'\n",
    "RoleDesc = 'role-desc'\n",
    "\n",
    "role = {}\n",
    "role['id'] = RoleID\n",
    "role['name'] = RoleName\n",
    "role['description'] = RoleDesc\n",
    "locNames = []\n",
    "locEn = {}\n",
    "locEn['locale'] = 'en'\n",
    "locEn['name'] = RoleName\n",
    "locNames.append(locEn)\n",
    "locEs = {}\n",
    "locEs['locale'] = 'es'\n",
    "locEs['name'] = RoleName\n",
    "locNames.append(locEs)\n",
    "role['localizedNames'] = locNames\n",
    "\n",
    "locDesc = []\n",
    "locEnD = {}\n",
    "locEnD['locale'] = 'en'\n",
    "locEnD['desc'] = RoleDesc\n",
    "locDesc.append(locEnD)\n",
    "locEsD = {}\n",
    "locEsD['locale'] = 'es'\n",
    "locEsD['desc'] = RoleDesc\n",
    "locDesc.append(locEsD)\n",
    "role['localizedDescriptions'] = locDesc\n",
    "\n",
    "print(json.dumps(role))"
   ]
  }
 ],
 "metadata": {
  "kernelspec": {
   "display_name": "Python 3",
   "language": "python",
   "name": "python3"
  },
  "language_info": {
   "codemirror_mode": {
    "name": "ipython",
    "version": 3
   },
   "file_extension": ".py",
   "mimetype": "text/x-python",
   "name": "python",
   "nbconvert_exporter": "python",
   "pygments_lexer": "ipython3",
   "version": "3.11.9"
  }
 },
 "nbformat": 4,
 "nbformat_minor": 2
}
