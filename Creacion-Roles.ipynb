{
 "cells": [
  {
   "cell_type": "code",
   "execution_count": null,
   "metadata": {},
   "outputs": [],
   "source": [
    "import configparser\n",
    "import idm\n",
    "\n",
    "config = configparser.ConfigParser()\n",
    "config.read('config.ini')\n",
    "\n",
    "idmConn = idm.IDMConn(config['url']['base'], config['basic-cred']['user'], config['basic-cred']['pass'], config['web-cred']['user'], config['web-cred']['pass'])"
   ]
  },
  {
   "cell_type": "code",
   "execution_count": null,
   "metadata": {},
   "outputs": [],
   "source": [
    "idmConn.Login()"
   ]
  },
  {
   "cell_type": "code",
   "execution_count": null,
   "metadata": {},
   "outputs": [],
   "source": [
    "idmConn.findUser('adeville')"
   ]
  },
  {
   "cell_type": "code",
   "execution_count": null,
   "metadata": {},
   "outputs": [],
   "source": [
    "idmConn.Logout()"
   ]
  },
  {
   "cell_type": "code",
   "execution_count": 6,
   "metadata": {},
   "outputs": [
    {
     "name": "stdout",
     "output_type": "stream",
     "text": [
      "searchUrl:  https://idmsrv:8543/IDMProv/rest/access/users/list?q=dev*&sortOrder=asc&sortBy=name&searchAttr=CN,FirstName,LastName,Email,TelephoneNumber&size=500&advSearch=\n",
      "user:  {'dn': 'cn=adeville,ou=users,ou=data,o=lab', 'fullName': 'Aubine 6 Deville', 'canHide': False, 'primaryAttributes': [{'key': 'CN', 'displayLabel': 'CN', 'attributeValues': [{'@type': 'xs:string', '$': 'adeville'}], 'dataType': 'String', 'isSearchable': True, 'isRequired': False, 'isEditable': False, 'isMultivalued': True, 'isHideable': False, 'formatType': '', 'controlType': 'Default'}, {'key': 'Department', 'displayLabel': 'Department', 'dataType': 'String', 'isSearchable': True, 'isRequired': False, 'isEditable': False, 'isMultivalued': True, 'isHideable': False, 'formatType': '', 'controlType': 'Default'}, {'key': 'Title', 'displayLabel': 'Title', 'attributeValues': [{'@type': 'xs:string', '$': 'Tax Accountant REMOVE AD'}], 'dataType': 'String', 'isSearchable': True, 'isRequired': False, 'isEditable': False, 'isMultivalued': True, 'isHideable': False, 'formatType': '', 'controlType': 'Default'}], 'secondaryAttributes': [{'key': 'FirstName', 'displayLabel': 'First Name', 'attributeValues': [{'@type': 'xs:string', '$': 'Aubine 6'}], 'dataType': 'String', 'isSearchable': True, 'isRequired': True, 'isEditable': False, 'isMultivalued': True, 'isHideable': False, 'formatType': '', 'controlType': 'Default'}, {'key': 'LastName', 'displayLabel': 'Last Name', 'attributeValues': [{'@type': 'xs:string', '$': 'Deville'}], 'dataType': 'String', 'isSearchable': True, 'isRequired': True, 'isEditable': False, 'isMultivalued': True, 'isHideable': False, 'formatType': '', 'controlType': 'Default'}, {'key': 'Email', 'displayLabel': 'Email', 'attributeValues': [{'@type': 'xs:string', '$': 'iam.demo.delta@gmail.com'}], 'dataType': 'String', 'isSearchable': True, 'isRequired': False, 'isEditable': False, 'isMultivalued': True, 'isHideable': False, 'formatType': 'email', 'controlType': 'Default'}], 'disabledLogin': ['false'], 'disabledLoginSupported': False, 'isHelpdeskUser': False, 'teamManger': False, 'hideProfilePhoto': False}\n"
     ]
    },
    {
     "data": {
      "text/plain": [
       "True"
      ]
     },
     "execution_count": 6,
     "metadata": {},
     "output_type": "execute_result"
    }
   ],
   "source": [
    "import idm\n",
    "import configparser\n",
    "\n",
    "config = configparser.ConfigParser()\n",
    "config.read('config.ini')\n",
    "\n",
    "idmConn2 = idm.IDMConn(config['url']['base'], 'glabarrera', 'Object00', config['web-cred']['user'], config['web-cred']['pass'])\n",
    "idmConn2.Login()\n",
    "found = idmConn2.findUser('dev*')\n",
    "for user in found:\n",
    "    print('user: ', user)\n",
    "idmConn2.Logout()"
   ]
  }
 ],
 "metadata": {
  "kernelspec": {
   "display_name": ".venv",
   "language": "python",
   "name": "python3"
  },
  "language_info": {
   "codemirror_mode": {
    "name": "ipython",
    "version": 3
   },
   "file_extension": ".py",
   "mimetype": "text/x-python",
   "name": "python",
   "nbconvert_exporter": "python",
   "pygments_lexer": "ipython3",
   "version": "3.13.2"
  }
 },
 "nbformat": 4,
 "nbformat_minor": 2
}
