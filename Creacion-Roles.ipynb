{
 "cells": [
  {
   "cell_type": "code",
   "execution_count": 5,
   "metadata": {},
   "outputs": [
    {
     "name": "stdout",
     "output_type": "stream",
     "text": [
      "usuario ->  {'dn': 'cn=adeville,ou=users,ou=data,o=lab', 'fullName': 'Aubine 6 Deville', 'canHide': False, 'primaryAttributes': [{'key': 'CN', 'displayLabel': 'CN', 'attributeValues': [{'@type': 'xs:string', '$': 'adeville'}], 'dataType': 'String', 'isSearchable': True, 'isRequired': False, 'isEditable': False, 'isMultivalued': True, 'isHideable': False, 'formatType': '', 'controlType': 'Default'}, {'key': 'Department', 'displayLabel': 'Department', 'dataType': 'String', 'isSearchable': True, 'isRequired': False, 'isEditable': False, 'isMultivalued': True, 'isHideable': False, 'formatType': '', 'controlType': 'Default'}, {'key': 'Title', 'displayLabel': 'Title', 'attributeValues': [{'@type': 'xs:string', '$': 'Tax Accountant REMOVE AD'}], 'dataType': 'String', 'isSearchable': True, 'isRequired': False, 'isEditable': False, 'isMultivalued': True, 'isHideable': False, 'formatType': '', 'controlType': 'Default'}], 'secondaryAttributes': [{'key': 'FirstName', 'displayLabel': 'First Name', 'attributeValues': [{'@type': 'xs:string', '$': 'Aubine 6'}], 'dataType': 'String', 'isSearchable': True, 'isRequired': True, 'isEditable': False, 'isMultivalued': True, 'isHideable': False, 'formatType': '', 'controlType': 'Default'}, {'key': 'LastName', 'displayLabel': 'Last Name', 'attributeValues': [{'@type': 'xs:string', '$': 'Deville'}], 'dataType': 'String', 'isSearchable': True, 'isRequired': True, 'isEditable': False, 'isMultivalued': True, 'isHideable': False, 'formatType': '', 'controlType': 'Default'}, {'key': 'Email', 'displayLabel': 'Email', 'attributeValues': [{'@type': 'xs:string', '$': 'iam.demo.delta@gmail.com'}], 'dataType': 'String', 'isSearchable': True, 'isRequired': False, 'isEditable': False, 'isMultivalued': True, 'isHideable': False, 'formatType': 'email', 'controlType': 'Default'}], 'disabledLogin': ['false'], 'disabledLoginSupported': False, 'isHelpdeskUser': False, 'teamManger': False, 'hideProfilePhoto': False}\n",
      "dn ->  cn=adeville,ou=users,ou=data,o=lab\n",
      "fullName ->  Aubine 6 Deville\n"
     ]
    },
    {
     "data": {
      "text/plain": [
       "True"
      ]
     },
     "execution_count": 5,
     "metadata": {},
     "output_type": "execute_result"
    }
   ],
   "source": [
    "from idm.src.cnetiq_idm_client import IDMConn\n",
    "import configparser\n",
    "\n",
    "\n",
    "config = configparser.ConfigParser()\n",
    "config.read('config.ini')\n",
    "\n",
    "idmConn = IDMConn(config['url']['base'], config['basic-cred']['user'], config['basic-cred']['pass'], config['web-cred']['user'], config['web-cred']['pass'])\n",
    "idmConn.Login()\n",
    "\n",
    "usuario = idmConn.findUser('adeville')[0]\n",
    "dn = usuario['dn']\n",
    "fullName = usuario['fullName']\n",
    "print('usuario -> ', usuario)\n",
    "print('dn -> ', dn)\n",
    "print('fullName -> ', fullName)\n",
    "\n",
    "idmConn.Logout()"
   ]
  }
 ],
 "metadata": {
  "kernelspec": {
   "display_name": ".venv",
   "language": "python",
   "name": "python3"
  },
  "language_info": {
   "codemirror_mode": {
    "name": "ipython",
    "version": 3
   },
   "file_extension": ".py",
   "mimetype": "text/x-python",
   "name": "python",
   "nbconvert_exporter": "python",
   "pygments_lexer": "ipython3",
   "version": "3.13.2"
  }
 },
 "nbformat": 4,
 "nbformat_minor": 2
}
