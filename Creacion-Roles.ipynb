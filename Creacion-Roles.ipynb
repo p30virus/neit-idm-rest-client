{
 "cells": [
  {
   "cell_type": "code",
   "execution_count": 1,
   "metadata": {},
   "outputs": [],
   "source": [
    "import pandas as pd\n",
    "import configparser\n",
    "import idm\n",
    "import datetime\n",
    "\n",
    "config = configparser.ConfigParser()\n",
    "config.read('config.ini')\n",
    "\n",
    "idmConn = idm.IDMConn(config['url']['base'], config['basic-cred']['user'], config['basic-cred']['pass'], config['web-cred']['user'], config['web-cred']['pass'])"
   ]
  },
  {
   "cell_type": "code",
   "execution_count": 2,
   "metadata": {},
   "outputs": [
    {
     "data": {
      "text/plain": [
       "True"
      ]
     },
     "execution_count": 2,
     "metadata": {},
     "output_type": "execute_result"
    }
   ],
   "source": [
    "idmConn.Login()"
   ]
  },
  {
   "cell_type": "code",
   "execution_count": 3,
   "metadata": {},
   "outputs": [
    {
     "data": {
      "text/plain": [
       "[{'name': 'CN=Print Operators,CN=Builtin,DC=mf,DC=demo',\n",
       "  'description': 'Members can administer printers installed on domain controllers',\n",
       "  'value': '{\"ID\":\"2220346b77d01f4ca4ac8d178bb7d8d8\",\"ID2\":\"CN=Print Operators,CN=Builtin,DC=mf,DC=demo\"}',\n",
       "  'id': 'cn=Group,cn=Active Directory,cn=DriverSet,ou=system,o=lab',\n",
       "  'entitlementName': 'Group Membership Entitlement'},\n",
       " {'name': 'CN=Enterprise Key Admins,CN=Users,DC=mf,DC=demo',\n",
       "  'description': 'Members of this group can perform administrative actions on key objects within the forest.',\n",
       "  'value': '{\"ID\":\"bbbae8879ee4914cb7a323e73656e223\",\"ID2\":\"CN=Enterprise Key Admins,CN=Users,DC=mf,DC=demo\"}',\n",
       "  'id': 'cn=Group,cn=Active Directory,cn=DriverSet,ou=system,o=lab',\n",
       "  'entitlementName': 'Group Membership Entitlement'},\n",
       " {'name': 'CN=Performance Monitor Users,CN=Builtin,DC=mf,DC=demo',\n",
       "  'description': 'Members of this group can access performance counter data locally and remotely',\n",
       "  'value': '{\"ID\":\"1962e2c8fe31f24bb53ce885a02d5c69\",\"ID2\":\"CN=Performance Monitor Users,CN=Builtin,DC=mf,DC=demo\"}',\n",
       "  'id': 'cn=Group,cn=Active Directory,cn=DriverSet,ou=system,o=lab',\n",
       "  'entitlementName': 'Group Membership Entitlement'},\n",
       " {'name': 'CN=Key Admins,CN=Users,DC=mf,DC=demo',\n",
       "  'description': 'Members of this group can perform administrative actions on key objects within the domain.',\n",
       "  'value': '{\"ID\":\"8653add57d4ac64e8c3b7210bb0196c9\",\"ID2\":\"CN=Key Admins,CN=Users,DC=mf,DC=demo\"}',\n",
       "  'id': 'cn=Group,cn=Active Directory,cn=DriverSet,ou=system,o=lab',\n",
       "  'entitlementName': 'Group Membership Entitlement'},\n",
       " {'name': 'CN=Storage Replica Administrators,CN=Builtin,DC=mf,DC=demo',\n",
       "  'description': 'Members of this group have complete and unrestricted access to all features of Storage Replica.',\n",
       "  'value': '{\"ID\":\"3cde8ba774acb8469167c722ebd33177\",\"ID2\":\"CN=Storage Replica Administrators,CN=Builtin,DC=mf,DC=demo\"}',\n",
       "  'id': 'cn=Group,cn=Active Directory,cn=DriverSet,ou=system,o=lab',\n",
       "  'entitlementName': 'Group Membership Entitlement'},\n",
       " {'name': 'CN=Group Policy Creator Owners,CN=Users,DC=mf,DC=demo',\n",
       "  'description': 'Members in this group can modify group policy for the domain',\n",
       "  'value': '{\"ID\":\"f46b3875e274b345b085faee19fccf69\",\"ID2\":\"CN=Group Policy Creator Owners,CN=Users,DC=mf,DC=demo\"}',\n",
       "  'id': 'cn=Group,cn=Active Directory,cn=DriverSet,ou=system,o=lab',\n",
       "  'entitlementName': 'Group Membership Entitlement'},\n",
       " {'name': 'CN=Domain Users,CN=Users,DC=mf,DC=demo',\n",
       "  'description': 'All domain users',\n",
       "  'value': '{\"ID\":\"88e028f95188b04eaa9725cc99782d50\",\"ID2\":\"CN=Domain Users,CN=Users,DC=mf,DC=demo\"}',\n",
       "  'id': 'cn=Group,cn=Active Directory,cn=DriverSet,ou=system,o=lab',\n",
       "  'entitlementName': 'Group Membership Entitlement'},\n",
       " {'name': 'CN=Guests,CN=Builtin,DC=mf,DC=demo',\n",
       "  'description': 'Guests have the same access as members of the Users group by default, except for the Guest account which is further restricted',\n",
       "  'value': '{\"ID\":\"cbb45aeee9344f4f8ff2913935b62ddd\",\"ID2\":\"CN=Guests,CN=Builtin,DC=mf,DC=demo\"}',\n",
       "  'id': 'cn=Group,cn=Active Directory,cn=DriverSet,ou=system,o=lab',\n",
       "  'entitlementName': 'Group Membership Entitlement'},\n",
       " {'name': 'CN=Allowed RODC Password Replication Group,CN=Users,DC=mf,DC=demo',\n",
       "  'description': 'Members in this group can have their passwords replicated to all read-only domain controllers in the domain',\n",
       "  'value': '{\"ID\":\"fb3509089d659b4098908b8d91fcff17\",\"ID2\":\"CN=Allowed RODC Password Replication Group,CN=Users,DC=mf,DC=demo\"}',\n",
       "  'id': 'cn=Group,cn=Active Directory,cn=DriverSet,ou=system,o=lab',\n",
       "  'entitlementName': 'Group Membership Entitlement'},\n",
       " {'name': 'CN=Backup Operators,CN=Builtin,DC=mf,DC=demo',\n",
       "  'description': 'Backup Operators can override security restrictions for the sole purpose of backing up or restoring files',\n",
       "  'value': '{\"ID\":\"da6955502ad50548baa6cc53a4e15d6d\",\"ID2\":\"CN=Backup Operators,CN=Builtin,DC=mf,DC=demo\"}',\n",
       "  'id': 'cn=Group,cn=Active Directory,cn=DriverSet,ou=system,o=lab',\n",
       "  'entitlementName': 'Group Membership Entitlement'}]"
      ]
     },
     "execution_count": 3,
     "metadata": {},
     "output_type": "execute_result"
    }
   ],
   "source": [
    "idmConn.getEntitlementValues('cn=group,cn=active directory,cn=driverset,ou=system,o=lab')"
   ]
  },
  {
   "cell_type": "code",
   "execution_count": null,
   "metadata": {},
   "outputs": [],
   "source": []
  },
  {
   "cell_type": "code",
   "execution_count": 4,
   "metadata": {},
   "outputs": [
    {
     "data": {
      "text/plain": [
       "True"
      ]
     },
     "execution_count": 4,
     "metadata": {},
     "output_type": "execute_result"
    }
   ],
   "source": [
    "idmConn.Logout()"
   ]
  }
 ],
 "metadata": {
  "kernelspec": {
   "display_name": ".venv",
   "language": "python",
   "name": "python3"
  },
  "language_info": {
   "codemirror_mode": {
    "name": "ipython",
    "version": 3
   },
   "file_extension": ".py",
   "mimetype": "text/x-python",
   "name": "python",
   "nbconvert_exporter": "python",
   "pygments_lexer": "ipython3",
   "version": "3.13.2"
  }
 },
 "nbformat": 4,
 "nbformat_minor": 2
}
