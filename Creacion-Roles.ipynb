{
 "cells": [
  {
   "cell_type": "code",
   "execution_count": 1,
   "metadata": {},
   "outputs": [],
   "source": [
    "import pandas as pd\n",
    "import configparser\n",
    "import idm\n",
    "import datetime\n",
    "\n",
    "config = configparser.ConfigParser()\n",
    "config.read('config.ini')\n",
    "\n",
    "idmConn = idm.IDMConn(config['url']['base'], config['basic-cred']['user'], config['basic-cred']['pass'], config['web-cred']['user'], config['web-cred']['pass'])"
   ]
  },
  {
   "cell_type": "code",
   "execution_count": 2,
   "metadata": {},
   "outputs": [
    {
     "data": {
      "text/plain": [
       "True"
      ]
     },
     "execution_count": 2,
     "metadata": {},
     "output_type": "execute_result"
    }
   ],
   "source": [
    "idmConn.Login()"
   ]
  },
  {
   "cell_type": "code",
   "execution_count": 3,
   "metadata": {},
   "outputs": [
    {
     "name": "stdout",
     "output_type": "stream",
     "text": [
      "response:  {\"Fault\":{\"Code\":{\"Value\":\"Sender\",\"Subcode\":{\"Value\":\"Internal exception occurred processing REST service\"}},\"Reason\":{\"Text\":\"Internal Error. Please contact Administrator.\"}}}\n"
     ]
    },
    {
     "data": {
      "text/plain": [
       "[]"
      ]
     },
     "execution_count": 3,
     "metadata": {},
     "output_type": "execute_result"
    }
   ],
   "source": [
    "EndDate = datetime.datetime(2028, 12, 25)\n",
    "idmConn.assignRoleToUsers('cn=child-role,cn=level10,cn=roledefs,cn=roleconfig,cn=appconfig,cn=user application driver,cn=driverset,ou=system,o=lab', ['cn=iparton,ou=users,ou=data,o=lab','cn=adeville,ou=users,ou=data,o=lab', 'cn=glabarrera,ou=users,ou=data,o=lab', 'cn=pmckilroe,ou=users,ou=data,o=lab'], EndDate=EndDate)\n",
    "# idmConn.removeRoleFromUsers('cn=child-role,cn=level10,cn=roledefs,cn=roleconfig,cn=appconfig,cn=user application driver,cn=driverset,ou=system,o=lab', ['cn=adeville,ou=users,ou=data,o=lab', 'cn=glabarrera,ou=users,ou=data,o=lab', 'cn=pmckilroe,ou=users,ou=data,o=lab'])\n"
   ]
  },
  {
   "cell_type": "code",
   "execution_count": 4,
   "metadata": {},
   "outputs": [
    {
     "data": {
      "text/plain": [
       "True"
      ]
     },
     "execution_count": 4,
     "metadata": {},
     "output_type": "execute_result"
    }
   ],
   "source": [
    "idmConn.Logout()"
   ]
  }
 ],
 "metadata": {
  "kernelspec": {
   "display_name": ".venv",
   "language": "python",
   "name": "python3"
  },
  "language_info": {
   "codemirror_mode": {
    "name": "ipython",
    "version": 3
   },
   "file_extension": ".py",
   "mimetype": "text/x-python",
   "name": "python",
   "nbconvert_exporter": "python",
   "pygments_lexer": "ipython3",
   "version": "3.13.2"
  }
 },
 "nbformat": 4,
 "nbformat_minor": 2
}
