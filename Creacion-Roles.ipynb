{
 "cells": [
  {
   "cell_type": "code",
   "execution_count": 1,
   "metadata": {},
   "outputs": [],
   "source": [
    "import pandas as pd\n",
    "import configparser\n",
    "import idm\n",
    "import datetime\n",
    "\n",
    "config = configparser.ConfigParser()\n",
    "config.read('config.ini')\n",
    "\n",
    "idmConn = idm.IDMConn(config['url']['base'], config['basic-cred']['user'], config['basic-cred']['pass'], config['web-cred']['user'], config['web-cred']['pass'])"
   ]
  },
  {
   "cell_type": "code",
   "execution_count": 2,
   "metadata": {},
   "outputs": [
    {
     "data": {
      "text/plain": [
       "True"
      ]
     },
     "execution_count": 2,
     "metadata": {},
     "output_type": "execute_result"
    }
   ],
   "source": [
    "idmConn.Login()"
   ]
  },
  {
   "cell_type": "code",
   "execution_count": 3,
   "metadata": {},
   "outputs": [
    {
     "data": {
      "text/plain": [
       "[{'dn': 'cn=child-role,cn=Level10,cn=RoleDefs,cn=RoleConfig,cn=AppConfig,cn=User Application Driver,cn=DriverSet,ou=system,o=lab',\n",
       "  'recipientType': 'USER',\n",
       "  'recipientTypeSubContainer': 'false',\n",
       "  'recipientDn': 'cn=iparton,ou=users,ou=data,o=lab',\n",
       "  'recipientFullName': 'Izak Parton',\n",
       "  'statusCode': '50',\n",
       "  'statusDisplay': 'Completed',\n",
       "  'effectiveDate': '1742686828000',\n",
       "  'expiryDate': '',\n",
       "  'description': 'ssss',\n",
       "  'grant': True}]"
      ]
     },
     "execution_count": 3,
     "metadata": {},
     "output_type": "execute_result"
    }
   ],
   "source": [
    "idmConn.getRoleAssignments('cn=child-role,cn=level10,cn=roledefs,cn=roleconfig,cn=appconfig,cn=user application driver,cn=driverset,ou=system,o=lab')"
   ]
  },
  {
   "cell_type": "code",
   "execution_count": 4,
   "metadata": {},
   "outputs": [
    {
     "name": "stdout",
     "output_type": "stream",
     "text": [
      "reqData_json:  {\"assignments\": [{\"id\": \"cn=child-role,cn=level10,cn=roledefs,cn=roleconfig,cn=appconfig,cn=user application driver,cn=driverset,ou=system,o=lab\", \"assignmentToList\": [{\"assignedToDn\": \"cn=adeville,ou=users,ou=data,o=lab\", \"subtype\": \"user\"}, {\"assignedToDn\": \"cn=pmckilroe,ou=users,ou=data,o=lab\", \"subtype\": \"user\"}], \"effectiveDate\": \"1742832440332\", \"expiryDate\": \"1743696440332\"}], \"reason\": \"Default comment\"}\n",
      "response:  {\"success\":\"true\",\"succeeded\":[{\"id\":\"cn=child-role,cn=level10,cn=roledefs,cn=roleconfig,cn=appconfig,cn=user application driver,cn=driverset,ou=system,o=lab\",\"assignToUsers\":{\"dn\":\"cn=adeville,ou=users,ou=data,o=lab\",\"name\":\"Aubine 6 Deville\"}},{\"id\":\"cn=child-role,cn=level10,cn=roledefs,cn=roleconfig,cn=appconfig,cn=user application driver,cn=driverset,ou=system,o=lab\",\"assignToUsers\":{\"dn\":\"cn=pmckilroe,ou=users,ou=data,o=lab\",\"name\":\"Pepito McKilroe\"}}]}\n"
     ]
    },
    {
     "data": {
      "text/plain": [
       "[{'id': 'cn=child-role,cn=level10,cn=roledefs,cn=roleconfig,cn=appconfig,cn=user application driver,cn=driverset,ou=system,o=lab',\n",
       "  'assignToUsers': {'dn': 'cn=adeville,ou=users,ou=data,o=lab',\n",
       "   'name': 'Aubine 6 Deville'}},\n",
       " {'id': 'cn=child-role,cn=level10,cn=roledefs,cn=roleconfig,cn=appconfig,cn=user application driver,cn=driverset,ou=system,o=lab',\n",
       "  'assignToUsers': {'dn': 'cn=pmckilroe,ou=users,ou=data,o=lab',\n",
       "   'name': 'Pepito McKilroe'}}]"
      ]
     },
     "execution_count": 4,
     "metadata": {},
     "output_type": "execute_result"
    }
   ],
   "source": [
    "StartDate = datetime.datetime.now() + datetime.timedelta(days=1)\n",
    "EndDate = StartDate + datetime.timedelta(days=10)\n",
    "idmConn.assignRoleToUsers('cn=child-role,cn=level10,cn=roledefs,cn=roleconfig,cn=appconfig,cn=user application driver,cn=driverset,ou=system,o=lab', ['cn=iparton,ou=users,ou=data,o=lab','cn=adeville,ou=users,ou=data,o=lab', 'cn=glabarrera,ou=users,ou=data,o=lab', 'cn=pmckilroe,ou=users,ou=data,o=lab'], EffectiveDate=StartDate, EndDate=EndDate)\n",
    "# idmConn.removeRoleFromUsers('cn=child-role,cn=level10,cn=roledefs,cn=roleconfig,cn=appconfig,cn=user application driver,cn=driverset,ou=system,o=lab', ['cn=adeville,ou=users,ou=data,o=lab', 'cn=glabarrera,ou=users,ou=data,o=lab', 'cn=pmckilroe,ou=users,ou=data,o=lab'])\n"
   ]
  },
  {
   "cell_type": "code",
   "execution_count": 5,
   "metadata": {},
   "outputs": [
    {
     "data": {
      "text/plain": [
       "[{'dn': 'cn=child-role,cn=Level10,cn=RoleDefs,cn=RoleConfig,cn=AppConfig,cn=User Application Driver,cn=DriverSet,ou=system,o=lab',\n",
       "  'recipientType': 'USER',\n",
       "  'recipientTypeSubContainer': 'false',\n",
       "  'recipientDn': 'cn=iparton,ou=users,ou=data,o=lab',\n",
       "  'recipientFullName': 'Izak Parton',\n",
       "  'statusCode': '50',\n",
       "  'statusDisplay': 'Completed',\n",
       "  'effectiveDate': '1742686828000',\n",
       "  'expiryDate': '',\n",
       "  'description': 'ssss',\n",
       "  'grant': True}]"
      ]
     },
     "execution_count": 5,
     "metadata": {},
     "output_type": "execute_result"
    }
   ],
   "source": [
    "idmConn.getRoleAssignments('cn=child-role,cn=level10,cn=roledefs,cn=roleconfig,cn=appconfig,cn=user application driver,cn=driverset,ou=system,o=lab')"
   ]
  },
  {
   "cell_type": "code",
   "execution_count": 6,
   "metadata": {},
   "outputs": [
    {
     "data": {
      "text/plain": [
       "True"
      ]
     },
     "execution_count": 6,
     "metadata": {},
     "output_type": "execute_result"
    }
   ],
   "source": [
    "idmConn.Logout()"
   ]
  },
  {
   "cell_type": "code",
   "execution_count": 7,
   "metadata": {},
   "outputs": [
    {
     "name": "stdout",
     "output_type": "stream",
     "text": [
      "1742746042\n"
     ]
    }
   ],
   "source": [
    "import datetime\n",
    "print(int(datetime.datetime.now().timestamp()))"
   ]
  }
 ],
 "metadata": {
  "kernelspec": {
   "display_name": ".venv",
   "language": "python",
   "name": "python3"
  },
  "language_info": {
   "codemirror_mode": {
    "name": "ipython",
    "version": 3
   },
   "file_extension": ".py",
   "mimetype": "text/x-python",
   "name": "python",
   "nbconvert_exporter": "python",
   "pygments_lexer": "ipython3",
   "version": "3.13.2"
  }
 },
 "nbformat": 4,
 "nbformat_minor": 2
}
