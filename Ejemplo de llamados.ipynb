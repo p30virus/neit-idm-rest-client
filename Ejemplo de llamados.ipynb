{
 "cells": [
  {
   "cell_type": "code",
   "execution_count": 1,
   "metadata": {},
   "outputs": [],
   "source": [
    "import configparser\n",
    "import idm\n",
    "\n",
    "config = configparser.ConfigParser()\n",
    "config.read('config.ini')\n",
    "\n",
    "idmConn = idm.IDMConn(config['url']['base'], config['basic-cred']['user'], config['basic-cred']['pass'], config['web-cred']['user'], config['web-cred']['pass'])"
   ]
  },
  {
   "cell_type": "code",
   "execution_count": 2,
   "metadata": {},
   "outputs": [
    {
     "data": {
      "text/plain": [
       "True"
      ]
     },
     "execution_count": 2,
     "metadata": {},
     "output_type": "execute_result"
    }
   ],
   "source": [
    "idmConn.Login()"
   ]
  },
  {
   "cell_type": "code",
   "execution_count": 3,
   "metadata": {},
   "outputs": [
    {
     "data": {
      "text/plain": [
       "[{'dn': 'cn=adeville,ou=users,ou=data,o=lab',\n",
       "  'fullName': 'Aubine 6 Deville',\n",
       "  'canHide': False,\n",
       "  'primaryAttributes': [{'key': 'CN',\n",
       "    'displayLabel': 'CN',\n",
       "    'attributeValues': [{'@type': 'xs:string', '$': 'adeville'}],\n",
       "    'dataType': 'String',\n",
       "    'isSearchable': True,\n",
       "    'isRequired': False,\n",
       "    'isEditable': False,\n",
       "    'isMultivalued': True,\n",
       "    'isHideable': False,\n",
       "    'formatType': '',\n",
       "    'controlType': 'Default'},\n",
       "   {'key': 'Department',\n",
       "    'displayLabel': 'Department',\n",
       "    'dataType': 'String',\n",
       "    'isSearchable': True,\n",
       "    'isRequired': False,\n",
       "    'isEditable': False,\n",
       "    'isMultivalued': True,\n",
       "    'isHideable': False,\n",
       "    'formatType': '',\n",
       "    'controlType': 'Default'},\n",
       "   {'key': 'Title',\n",
       "    'displayLabel': 'Title',\n",
       "    'attributeValues': [{'@type': 'xs:string',\n",
       "      '$': 'Tax Accountant REMOVE AD'}],\n",
       "    'dataType': 'String',\n",
       "    'isSearchable': True,\n",
       "    'isRequired': False,\n",
       "    'isEditable': False,\n",
       "    'isMultivalued': True,\n",
       "    'isHideable': False,\n",
       "    'formatType': '',\n",
       "    'controlType': 'Default'}],\n",
       "  'secondaryAttributes': [{'key': 'FirstName',\n",
       "    'displayLabel': 'First Name',\n",
       "    'attributeValues': [{'@type': 'xs:string', '$': 'Aubine 6'}],\n",
       "    'dataType': 'String',\n",
       "    'isSearchable': True,\n",
       "    'isRequired': True,\n",
       "    'isEditable': False,\n",
       "    'isMultivalued': True,\n",
       "    'isHideable': False,\n",
       "    'formatType': '',\n",
       "    'controlType': 'Default'},\n",
       "   {'key': 'LastName',\n",
       "    'displayLabel': 'Last Name',\n",
       "    'attributeValues': [{'@type': 'xs:string', '$': 'Deville'}],\n",
       "    'dataType': 'String',\n",
       "    'isSearchable': True,\n",
       "    'isRequired': True,\n",
       "    'isEditable': False,\n",
       "    'isMultivalued': True,\n",
       "    'isHideable': False,\n",
       "    'formatType': '',\n",
       "    'controlType': 'Default'},\n",
       "   {'key': 'Email',\n",
       "    'displayLabel': 'Email',\n",
       "    'attributeValues': [{'@type': 'xs:string',\n",
       "      '$': 'iam.demo.delta@gmail.com'}],\n",
       "    'dataType': 'String',\n",
       "    'isSearchable': True,\n",
       "    'isRequired': False,\n",
       "    'isEditable': False,\n",
       "    'isMultivalued': True,\n",
       "    'isHideable': False,\n",
       "    'formatType': 'email',\n",
       "    'controlType': 'Default'}],\n",
       "  'disabledLogin': ['false'],\n",
       "  'disabledLoginSupported': False,\n",
       "  'isHelpdeskUser': False,\n",
       "  'teamManger': False,\n",
       "  'hideProfilePhoto': False}]"
      ]
     },
     "execution_count": 3,
     "metadata": {},
     "output_type": "execute_result"
    }
   ],
   "source": [
    "idmConn.findUser('adeville')"
   ]
  },
  {
   "cell_type": "code",
   "execution_count": 4,
   "metadata": {},
   "outputs": [
    {
     "data": {
      "text/plain": [
       "True"
      ]
     },
     "execution_count": 4,
     "metadata": {},
     "output_type": "execute_result"
    }
   ],
   "source": [
    "idmConn.Logout()"
   ]
  },
  {
   "cell_type": "code",
   "execution_count": 7,
   "metadata": {},
   "outputs": [
    {
     "name": "stdout",
     "output_type": "stream",
     "text": [
      "token:  eyJ0eXAiOiJhdCtqd3QiLCJhbGciOiJSUzI1NiIsImtpZCI6IjdwWkZSOTRSek9vanBVczZOUUtVRThlZEE3ayJ9.eyJpc3MiOiJodHRwczovL2lkbXNydjo4NTQzL29zcC9hL2lkbS9hdXRoL29hdXRoMiIsImV4cCI6MTc0MjkyMDE1MiwibmJmIjoxNzQyOTIwMDkyLCJpYXQiOjE3NDI5MjAwOTIsImp0aSI6IkpXUFhrUW1XRWZDdGh3QU1LVDhxdlEiLCJjbGllbnRfaWQiOiJnbGFiYXJyZXJhIiwic3ViIjoiYmlzYWR1cy1hMzYzYmY0ZWVmZTQ0ZjRjYmJkNmEzNjNiZjRlZWZlNCIsInR4biI6IkpWS1pnQW1XRWZDdGh3QU1LVDhxdlEiLCJzY29wZSI6WyJpc20iXSwiYXV0aF90aW1lIjoxNzQyOTIwMDkyLCJmaXJzdF9uYW1lIjoiVXNlciBBcHBsaWNhdGlvbiIsImxhc3RfbmFtZSI6IkFkbWluaXN0cmF0b3IiLCJuYW1lIjoiY249dWFhZG1pbixvdT1zYSxvdT1kYXRhLG89bGFiIiwiYXV0aF9zcmNfaWQiOiJiaXNhZHVzIiwiZXhjbHVkZWQiOlsicm9sZXMiXSwiYXVkIjpbImdsYWJhcnJlcmEiLCJpZG1kY3MiLCJ3b3JrZmxvdyIsImlkbWRhc2giLCJpZG1hZG1pbiIsImlkbWVuZ2luZSIsInNzcHIiLCJycHR3IiwiaWRlbnRpdHljb25zb2xlIiwicnB0IiwicmJwbSIsImRjc2RydiIsInJicG1yZXN0IiwiZm9ybXMiXSwiYW1yIjpbInB3ZCJdLCJfcHZ0IjoiQU53QVVnSWxBR1JJQUI0QUlBQUFBQUFBQUdOdVBYVmhZV1J0YVc0c2IzVTljMkVzYjNVOVpHRjBZU3h2UFd4aFltRXpOak5pWmpSbFpXWmxORFJtTkdOaVltUTJZVE0yTTJKbU5HVmxabVUwWVFDbEFDc0EifQ.w50PNXEg8fLGdTiCd9p7-ZUlsvGtxAC_Vsm2IE9c7BiXIcIasFCaB1lhR3pHbU7wnzLE5-an22KKwr5OP8Y33lTMBHbagiosIrlNAtKvozR17vwI6eUJhHh6spj7LTR_kzcReV59uMFTSNRWM4TYX-THaSRliG22uSr0z5UNeAugngkGKLzwXaEoxiIT-3-IRFc1OizzzHyClVzi1hL9sgT9lSUShhuh7MDNe6AS8eWb16XAvNwulZkWSq2fReS6LNqTK4nNubo844E_ZVRNP-92a6U5OEXTh_HZb89d4joAm5Tnrr925KAnxtwVM7m7Fqu4yGOCcxkl5yUwPLUebg\n",
      "URL:  https://idmsrv:8543/IDMProv/rest/access/users/list?q=lleonardo&sortOrder=asc&sortBy=name&searchAttr=CN,FirstName,LastName,Email,TelephoneNumber&size=500&advSearch=\n",
      "response:  {\"usersList\":[{\"dn\":\"cn=lleonardo,ou=users,ou=data,o=lab\",\"fullName\":\"Leonardo Leonardo\",\"canHide\":false,\"primaryAttributes\":[{\"key\":\"CN\",\"displayLabel\":\"CN\",\"attributeValues\":[{\"@type\":\"xs:string\",\"$\":\"lleonardo\"}],\"dataType\":\"String\",\"isSearchable\":true,\"isRequired\":false,\"isEditable\":false,\"isMultivalued\":true,\"isHideable\":false,\"formatType\":\"\",\"controlType\":\"Default\"},{\"key\":\"Department\",\"displayLabel\":\"Department\",\"dataType\":\"String\",\"isSearchable\":true,\"isRequired\":false,\"isEditable\":false,\"isMultivalued\":true,\"isHideable\":false,\"formatType\":\"\",\"controlType\":\"Default\"},{\"key\":\"Title\",\"displayLabel\":\"Title\",\"attributeValues\":[{\"@type\":\"xs:string\",\"$\":\"Consultor IDM 4\"}],\"dataType\":\"String\",\"isSearchable\":true,\"isRequired\":false,\"isEditable\":false,\"isMultivalued\":true,\"isHideable\":false,\"formatType\":\"\",\"controlType\":\"Default\"}],\"secondaryAttributes\":[{\"key\":\"FirstName\",\"displayLabel\":\"First Name\",\"attributeValues\":[{\"@type\":\"xs:string\",\"$\":\"Leonardo\"}],\"dataType\":\"String\",\"isSearchable\":true,\"isRequired\":true,\"isEditable\":false,\"isMultivalued\":true,\"isHideable\":false,\"formatType\":\"\",\"controlType\":\"Default\"},{\"key\":\"LastName\",\"displayLabel\":\"Last Name\",\"attributeValues\":[{\"@type\":\"xs:string\",\"$\":\"Leonardo\"}],\"dataType\":\"String\",\"isSearchable\":true,\"isRequired\":true,\"isEditable\":false,\"isMultivalued\":true,\"isHideable\":false,\"formatType\":\"\",\"controlType\":\"Default\"},{\"key\":\"Email\",\"displayLabel\":\"Email\",\"attributeValues\":[{\"@type\":\"xs:string\",\"$\":\"iam.demo.delta@gmail.com\"}],\"dataType\":\"String\",\"isSearchable\":true,\"isRequired\":false,\"isEditable\":false,\"isMultivalued\":true,\"isHideable\":false,\"formatType\":\"email\",\"controlType\":\"Default\"}],\"disabledLogin\":[\"false\"],\"disabledLoginSupported\":false,\"isHelpdeskUser\":false,\"teamManger\":false,\"hideProfilePhoto\":false}],\"nextIndex\":-1,\"totalSize\":1}\n",
      "owner:  cn=lleonardo,ou=users,ou=data,o=lab\n"
     ]
    },
    {
     "data": {
      "text/plain": [
       "True"
      ]
     },
     "execution_count": 7,
     "metadata": {},
     "output_type": "execute_result"
    }
   ],
   "source": [
    "import idm\n",
    "import configparser\n",
    "import json\n",
    "\n",
    "\n",
    "config = configparser.ConfigParser()\n",
    "config.read('config.ini')\n",
    "\n",
    "idmConn2 = idm.IDMConn(config['url']['base'], config['basic-cred']['user'], config['basic-cred']['pass'], config['web-cred']['user'], config['web-cred']['pass'], IDMDebug=True)\n",
    "idmConn2.Login()\n",
    "\n",
    "# rolefound = idmConn2.findRoleByName('child*')\n",
    "# roleDN =  rolefound[0]['id']\n",
    "# print('roleDN: ', roleDN)\n",
    "\n",
    "# found = idmConn2.findUser('lleonardo')\n",
    "# for user in found:\n",
    "#     print('user: ', user)\n",
    "#     res = idmConn2.removeRoleFromUsers(roleDN, [user['dn']], Comment='proceso de retiro ejemplo rol leonardo')\n",
    "#     print('res: ', res)\n",
    "\n",
    "# found = idmConn2.findUser('lleonardo')\n",
    "# for user in found:\n",
    "#     print('user: ', user)\n",
    "#     res = idmConn2.getUserByDN(user['dn'])\n",
    "#     print('res: ', json.dumps(res))\n",
    "#     print('disabledLogin: ', res['disabledLogin'])\n",
    "#     if 'false' in res['disabledLogin']:\n",
    "#         print('Usuario no se encuentra deshabilitado')\n",
    "\n",
    "nuevosroles =  ['Role 1 Nuevo', 'Role 2 Nuevo', 'Role 3 Nuevo']\n",
    "owner  = idmConn2.findUser('lleonardo')[0]['dn']\n",
    "print('owner: ', owner)\n",
    "\n",
    "    \n",
    "idmConn2.Logout()"
   ]
  }
 ],
 "metadata": {
  "kernelspec": {
   "display_name": ".venv",
   "language": "python",
   "name": "python3"
  },
  "language_info": {
   "codemirror_mode": {
    "name": "ipython",
    "version": 3
   },
   "file_extension": ".py",
   "mimetype": "text/x-python",
   "name": "python",
   "nbconvert_exporter": "python",
   "pygments_lexer": "ipython3",
   "version": "3.13.2"
  }
 },
 "nbformat": 4,
 "nbformat_minor": 2
}
