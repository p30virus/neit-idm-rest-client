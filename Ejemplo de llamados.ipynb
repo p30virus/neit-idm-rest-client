{
 "cells": [
  {
   "cell_type": "code",
   "execution_count": null,
   "metadata": {},
   "outputs": [],
   "source": [
    "import configparser\n",
    "import idm\n",
    "\n",
    "config = configparser.ConfigParser()\n",
    "config.read('config.ini')\n",
    "\n",
    "idmConn = idm.IDMConn(config['url']['base'], config['basic-cred']['user'], config['basic-cred']['pass'], config['web-cred']['user'], config['web-cred']['pass'])"
   ]
  },
  {
   "cell_type": "code",
   "execution_count": null,
   "metadata": {},
   "outputs": [],
   "source": [
    "idmConn.Login()"
   ]
  },
  {
   "cell_type": "code",
   "execution_count": null,
   "metadata": {},
   "outputs": [],
   "source": [
    "idmConn.findUser('adeville')"
   ]
  },
  {
   "cell_type": "code",
   "execution_count": null,
   "metadata": {},
   "outputs": [],
   "source": [
    "idmConn.Logout()"
   ]
  },
  {
   "cell_type": "code",
   "execution_count": 1,
   "metadata": {},
   "outputs": [
    {
     "name": "stdout",
     "output_type": "stream",
     "text": [
      "token:  eyJ0eXAiOiJhdCtqd3QiLCJhbGciOiJSUzI1NiIsImtpZCI6IjdwWkZSOTRSek9vanBVczZOUUtVRThlZEE3ayJ9.eyJpc3MiOiJodHRwczovL2lkbXNydjo4NTQzL29zcC9hL2lkbS9hdXRoL29hdXRoMiIsImV4cCI6MTc0MjkyMDI3MywibmJmIjoxNzQyOTIwMjEzLCJpYXQiOjE3NDI5MjAyMTMsImp0aSI6ImJjRmlvQW1XRWZDdGh3QU1LVDhxdlEiLCJjbGllbnRfaWQiOiJnbGFiYXJyZXJhIiwic3ViIjoiYmlzYWR1cy1hMzYzYmY0ZWVmZTQ0ZjRjYmJkNmEzNjNiZjRlZWZlNCIsInR4biI6ImJhNmQ4QW1XRWZDdGh3QU1LVDhxdlEiLCJzY29wZSI6WyJpc20iXSwiYXV0aF90aW1lIjoxNzQyOTIwMjEzLCJmaXJzdF9uYW1lIjoiVXNlciBBcHBsaWNhdGlvbiIsImxhc3RfbmFtZSI6IkFkbWluaXN0cmF0b3IiLCJuYW1lIjoiY249dWFhZG1pbixvdT1zYSxvdT1kYXRhLG89bGFiIiwiYXV0aF9zcmNfaWQiOiJiaXNhZHVzIiwiZXhjbHVkZWQiOlsicm9sZXMiXSwiYXVkIjpbImdsYWJhcnJlcmEiLCJpZG1kY3MiLCJ3b3JrZmxvdyIsImlkbWRhc2giLCJpZG1hZG1pbiIsImlkbWVuZ2luZSIsInNzcHIiLCJycHR3IiwiaWRlbnRpdHljb25zb2xlIiwicnB0IiwicmJwbSIsImRjc2RydiIsInJicG1yZXN0IiwiZm9ybXMiXSwiYW1yIjpbInB3ZCJdLCJfcHZ0IjoiQU1zQVVnSjdBUFJJQUI0QUlBQUFBQUFBQUdOdVBYVmhZV1J0YVc0c2IzVTljMkVzYjNVOVpHRjBZU3h2UFd4aFltRXpOak5pWmpSbFpXWmxORFJtTkdOaVltUTJZVE0yTTJKbU5HVmxabVUwSlFETUFJWUEifQ.sj-rHNMaEyFz6tE_ovaK3a6SHBPTdtqUmrJYSjD0x6hLeGsdzemM-FhIC8XqabHsZASm2dkdT3u3lMYoeQnIfJZvPYkA6312tDqarjTYJYCq4Nxh7ULR0gJsZ8KrikhAIO0rpmxOGELwa9URsKmFnLFhM8QNQHQ5e7q79-RlAAuVL867mFlsNKjJ9vwFTyC1YejDQAoUuPrJglYhdS_-nh-yHsNfuiYwZvIN9eXsYpJBtniQPnxf9lURsq_3rLsRBKTZJk9W0IuVKPOtVyM_7LtZdCykMRLEeYsjZZuPHHYNJ8msOhY2Ja2_xiLwaQvkYUh_ZlWhklEOqQm1jCTlhA\n",
      "URL:  https://idmsrv:8543/IDMProv/rest/access/users/list?q=lleonardo&sortOrder=asc&sortBy=name&searchAttr=CN,FirstName,LastName,Email,TelephoneNumber&size=500&advSearch=\n",
      "response:  {\"usersList\":[{\"dn\":\"cn=lleonardo,ou=users,ou=data,o=lab\",\"fullName\":\"Leonardo Leonardo\",\"canHide\":false,\"primaryAttributes\":[{\"key\":\"CN\",\"displayLabel\":\"CN\",\"attributeValues\":[{\"@type\":\"xs:string\",\"$\":\"lleonardo\"}],\"dataType\":\"String\",\"isSearchable\":true,\"isRequired\":false,\"isEditable\":false,\"isMultivalued\":true,\"isHideable\":false,\"formatType\":\"\",\"controlType\":\"Default\"},{\"key\":\"Department\",\"displayLabel\":\"Department\",\"dataType\":\"String\",\"isSearchable\":true,\"isRequired\":false,\"isEditable\":false,\"isMultivalued\":true,\"isHideable\":false,\"formatType\":\"\",\"controlType\":\"Default\"},{\"key\":\"Title\",\"displayLabel\":\"Title\",\"attributeValues\":[{\"@type\":\"xs:string\",\"$\":\"Consultor IDM 4\"}],\"dataType\":\"String\",\"isSearchable\":true,\"isRequired\":false,\"isEditable\":false,\"isMultivalued\":true,\"isHideable\":false,\"formatType\":\"\",\"controlType\":\"Default\"}],\"secondaryAttributes\":[{\"key\":\"FirstName\",\"displayLabel\":\"First Name\",\"attributeValues\":[{\"@type\":\"xs:string\",\"$\":\"Leonardo\"}],\"dataType\":\"String\",\"isSearchable\":true,\"isRequired\":true,\"isEditable\":false,\"isMultivalued\":true,\"isHideable\":false,\"formatType\":\"\",\"controlType\":\"Default\"},{\"key\":\"LastName\",\"displayLabel\":\"Last Name\",\"attributeValues\":[{\"@type\":\"xs:string\",\"$\":\"Leonardo\"}],\"dataType\":\"String\",\"isSearchable\":true,\"isRequired\":true,\"isEditable\":false,\"isMultivalued\":true,\"isHideable\":false,\"formatType\":\"\",\"controlType\":\"Default\"},{\"key\":\"Email\",\"displayLabel\":\"Email\",\"attributeValues\":[{\"@type\":\"xs:string\",\"$\":\"iam.demo.delta@gmail.com\"}],\"dataType\":\"String\",\"isSearchable\":true,\"isRequired\":false,\"isEditable\":false,\"isMultivalued\":true,\"isHideable\":false,\"formatType\":\"email\",\"controlType\":\"Default\"}],\"disabledLogin\":[\"false\"],\"disabledLoginSupported\":false,\"isHelpdeskUser\":false,\"teamManger\":false,\"hideProfilePhoto\":false}],\"nextIndex\":-1,\"totalSize\":1}\n",
      "owner:  cn=lleonardo,ou=users,ou=data,o=lab\n"
     ]
    },
    {
     "data": {
      "text/plain": [
       "True"
      ]
     },
     "execution_count": 1,
     "metadata": {},
     "output_type": "execute_result"
    }
   ],
   "source": [
    "import idm\n",
    "import configparser\n",
    "import json\n",
    "\n",
    "\n",
    "config = configparser.ConfigParser()\n",
    "config.read('config.ini')\n",
    "\n",
    "idmConn2 = idm.IDMConn(config['url']['base'], config['basic-cred']['user'], config['basic-cred']['pass'], config['web-cred']['user'], config['web-cred']['pass'], IDMDebug=True)\n",
    "idmConn2.Login()\n",
    "\n",
    "# rolefound = idmConn2.findRoleByName('child*')\n",
    "# roleDN =  rolefound[0]['id']\n",
    "# print('roleDN: ', roleDN)\n",
    "\n",
    "# found = idmConn2.findUser('lleonardo')\n",
    "# for user in found:\n",
    "#     print('user: ', user)\n",
    "#     res = idmConn2.removeRoleFromUsers(roleDN, [user['dn']], Comment='proceso de retiro ejemplo rol leonardo')\n",
    "#     print('res: ', res)\n",
    "\n",
    "# found = idmConn2.findUser('lleonardo')\n",
    "# for user in found:\n",
    "#     print('user: ', user)\n",
    "#     res = idmConn2.getUserByDN(user['dn'])\n",
    "#     print('res: ', json.dumps(res))\n",
    "#     print('disabledLogin: ', res['disabledLogin'])\n",
    "#     if 'false' in res['disabledLogin']:\n",
    "#         print('Usuario no se encuentra deshabilitado')\n",
    "\n",
    "nuevosroles =  ['Role 1 Nuevo', 'Role 2 Nuevo', 'Role 3 Nuevo']\n",
    "owner  = idmConn2.findUser('lleonardo')[0]['dn']\n",
    "print('owner: ', owner)\n",
    "\n",
    "    \n",
    "idmConn2.Logout()"
   ]
  }
 ],
 "metadata": {
  "kernelspec": {
   "display_name": ".venv",
   "language": "python",
   "name": "python3"
  },
  "language_info": {
   "codemirror_mode": {
    "name": "ipython",
    "version": 3
   },
   "file_extension": ".py",
   "mimetype": "text/x-python",
   "name": "python",
   "nbconvert_exporter": "python",
   "pygments_lexer": "ipython3",
   "version": "3.13.2"
  }
 },
 "nbformat": 4,
 "nbformat_minor": 2
}
