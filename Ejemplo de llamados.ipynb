{
 "cells": [
  {
   "cell_type": "code",
   "execution_count": null,
   "metadata": {},
   "outputs": [],
   "source": [
    "import configparser\n",
    "import idm\n",
    "\n",
    "config = configparser.ConfigParser()\n",
    "config.read('config.ini')\n",
    "\n",
    "idmConn = idm.IDMConn(config['url']['base'], config['basic-cred']['user'], config['basic-cred']['pass'], config['web-cred']['user'], config['web-cred']['pass'])"
   ]
  },
  {
   "cell_type": "code",
   "execution_count": null,
   "metadata": {},
   "outputs": [],
   "source": [
    "idmConn.Login()"
   ]
  },
  {
   "cell_type": "code",
   "execution_count": null,
   "metadata": {},
   "outputs": [],
   "source": [
    "idmConn.findUser('adeville')"
   ]
  },
  {
   "cell_type": "code",
   "execution_count": null,
   "metadata": {},
   "outputs": [],
   "source": [
    "idmConn.Logout()"
   ]
  },
  {
   "cell_type": "code",
   "execution_count": 1,
   "metadata": {},
   "outputs": [
    {
     "name": "stdout",
     "output_type": "stream",
     "text": [
      "owner:  cn=lleonardo,ou=users,ou=data,o=lab\n",
      "rolefound:  cn=role 1 nuevo,cn=level20,cn=roledefs,cn=roleconfig,cn=appconfig,cn=user application driver,cn=driverset,ou=system,o=lab\n",
      "rolefound:  cn=role 2 nuevo,cn=level20,cn=roledefs,cn=roleconfig,cn=appconfig,cn=user application driver,cn=driverset,ou=system,o=lab\n",
      "rolefound:  cn=role 3 nuevo,cn=level20,cn=roledefs,cn=roleconfig,cn=appconfig,cn=user application driver,cn=driverset,ou=system,o=lab\n"
     ]
    },
    {
     "data": {
      "text/plain": [
       "True"
      ]
     },
     "execution_count": 1,
     "metadata": {},
     "output_type": "execute_result"
    }
   ],
   "source": [
    "import idm\n",
    "import configparser\n",
    "import json\n",
    "\n",
    "\n",
    "config = configparser.ConfigParser()\n",
    "config.read('config.ini')\n",
    "\n",
    "idmConn2 = idm.IDMConn(config['url']['base'], 'glabarrera', 'Object00', config['web-cred']['user'], config['web-cred']['pass'])\n",
    "idmConn2.Login()\n",
    "\n",
    "# rolefound = idmConn2.findRoleByName('child*')\n",
    "# roleDN =  rolefound[0]['id']\n",
    "# print('roleDN: ', roleDN)\n",
    "\n",
    "# found = idmConn2.findUser('lleonardo')\n",
    "# for user in found:\n",
    "#     print('user: ', user)\n",
    "#     res = idmConn2.removeRoleFromUsers(roleDN, [user['dn']], Comment='proceso de retiro ejemplo rol leonardo')\n",
    "#     print('res: ', res)\n",
    "\n",
    "# found = idmConn2.findUser('lleonardo')\n",
    "# for user in found:\n",
    "#     print('user: ', user)\n",
    "#     res = idmConn2.getUserByDN(user['dn'])\n",
    "#     print('res: ', json.dumps(res))\n",
    "#     print('disabledLogin: ', res['disabledLogin'])\n",
    "#     if 'false' in res['disabledLogin']:\n",
    "#         print('Usuario no se encuentra deshabilitado')\n",
    "\n",
    "nuevosroles =  ['Role 1 Nuevo', 'Role 2 Nuevo', 'Role 3 Nuevo']\n",
    "owner  = idmConn2.findUser('lleonardo')[0]['dn']\n",
    "print('owner: ', owner)\n",
    "for rol in nuevosroles:\n",
    "    rolefound = idmConn2.findRoleByName(rol+' Name')[0]['id']\n",
    "    print('rolefound: ', rolefound)\n",
    "    idmConn2.removeRoleOwners(rolefound, [owner])\n",
    "    \n",
    "idmConn2.Logout()"
   ]
  }
 ],
 "metadata": {
  "kernelspec": {
   "display_name": ".venv",
   "language": "python",
   "name": "python3"
  },
  "language_info": {
   "codemirror_mode": {
    "name": "ipython",
    "version": 3
   },
   "file_extension": ".py",
   "mimetype": "text/x-python",
   "name": "python",
   "nbconvert_exporter": "python",
   "pygments_lexer": "ipython3",
   "version": "3.13.2"
  }
 },
 "nbformat": 4,
 "nbformat_minor": 2
}
